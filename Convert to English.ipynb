{
 "cells": [
  {
   "cell_type": "code",
   "execution_count": 46,
   "id": "f55e0e0c-a183-457a-a5c0-543b441b55d4",
   "metadata": {},
   "outputs": [],
   "source": [
    "# Import Libraries\n",
    "import os\n",
    "import requests\n",
    "from bs4 import BeautifulSoup\n",
    "from dotenv import load_dotenv\n",
    "from openai import OpenAI\n",
    "from IPython.display import Markdown, display"
   ]
  },
  {
   "cell_type": "code",
   "execution_count": 47,
   "id": "55991e3c-b8b0-4b36-9ef8-47d7c9cc115c",
   "metadata": {},
   "outputs": [],
   "source": [
    "# Get the API key\n",
    "load_dotenv()\n",
    "api_key = os.getenv(\"OPENAI_API_KEY\")\n",
    "client = OpenAI(api_key=api_key)"
   ]
  },
  {
   "cell_type": "code",
   "execution_count": 48,
   "id": "79a38047-971e-4ad8-a5ef-d2331c876f1d",
   "metadata": {},
   "outputs": [],
   "source": [
    "def scrape_tamil_website(url):\n",
    "    \"\"\"\n",
    "    The function visits a webpage and downloads its content. It then collects and returns all the main text like headings, paragraphs, and bullet points.\n",
    "    \"\"\"\n",
    "    \n",
    "    response = requests.get(url)\n",
    "    if response.status_code != 200:\n",
    "        raise Exception(f\"Failed to fetch page: {response.status_code}\")\n",
    "    \n",
    "    soup = BeautifulSoup(response.content, 'html.parser')\n",
    "    text = ' '.join([tag.get_text(strip=True) for tag in soup.find_all(['p', 'h1', 'h2', 'h3', 'li'])])\n",
    "    return text"
   ]
  },
  {
   "cell_type": "code",
   "execution_count": 56,
   "id": "91593570-5de5-4a25-a048-684df92b8ff5",
   "metadata": {},
   "outputs": [],
   "source": [
    "def summarize_and_translate(text):\n",
    "    \"\"\"\n",
    "    The summarize_and_translate function takes Tamil website content as input and uses the OpenAI gpt-4o-mini model to generate a simple English summary.\n",
    "    \"\"\"\n",
    "    \n",
    "    system_prompt = \"You are an assistant that understands Tamil webpages and summarizes them in simple english\"\n",
    "    user_prompt = f\"\"\"The following content is from a Tamil website. Summarize it in English. Focus only on important high level details.\n",
    "                        ```{text}```\n",
    "                   \"\"\"\n",
    "\n",
    "    response = client.chat.completions.create(\n",
    "        model=\"gpt-4o-mini\",\n",
    "        messages=[\n",
    "            {\"role\": \"system\", \"content\": system_prompt},\n",
    "            {\"role\": \"user\", \"content\": user_prompt}\n",
    "        ],\n",
    "        temperature=0.5\n",
    "    )\n",
    "\n",
    "    return response.choices[0].message.content"
   ]
  },
  {
   "cell_type": "code",
   "execution_count": 57,
   "id": "0ccad531-77ba-48a1-8475-c921ff749c43",
   "metadata": {},
   "outputs": [],
   "source": [
    "def main():\n",
    "    url = input(\"Enter Tamil webpage URL: \")\n",
    "    try:\n",
    "        tamil_text = scrape_tamil_website(url)\n",
    "        summary = summarize_and_translate(tamil_text)\n",
    "        display(Markdown(summary))\n",
    "    except Exception as e:\n",
    "        print(f\"Error: {e}\")"
   ]
  },
  {
   "cell_type": "code",
   "execution_count": 58,
   "id": "890ded6e-ad48-4870-a833-2024254e7393",
   "metadata": {},
   "outputs": [
    {
     "name": "stdin",
     "output_type": "stream",
     "text": [
      "Enter Tamil webpage URL:  https://maduraimeenakshi.hrce.tn.gov.in\n"
     ]
    },
    {
     "data": {
      "text/markdown": [
       "The text discusses the Arulmigu Meenakshi Sundareswarar Temple, commonly known as the Meenakshi Amman Temple, located in Madurai, on the southern bank of the Vaigai River. The temple is dedicated to the deities Meenakshi, an aspect of Parvati, and Sundareswarar, an aspect of Shiva. It has historical significance, being mentioned in ancient Sangam literature, and features a complex with 14 towering gopurams (temple towers), the tallest being the southern gopuram at 51.9 meters (170 feet).\n",
       "\n",
       "The temple is known for its rich sculptures and architectural grandeur. A special event, the Thirukkudamuzhuku festival, is scheduled for July 14, 2025, with devotees allowed to visit until the evening of July 13, 2025. The temple is a major pilgrimage site and cultural landmark in Madurai."
      ],
      "text/plain": [
       "<IPython.core.display.Markdown object>"
      ]
     },
     "metadata": {},
     "output_type": "display_data"
    }
   ],
   "source": [
    "# Example 1: https://maduraimeenakshi.hrce.tn.gov.in\n",
    "if __name__ == \"__main__\":\n",
    "    main()"
   ]
  },
  {
   "cell_type": "code",
   "execution_count": 59,
   "id": "c5bbf0b2-0caa-48c8-bf55-10d72165713e",
   "metadata": {},
   "outputs": [
    {
     "name": "stdin",
     "output_type": "stream",
     "text": [
      "Enter Tamil webpage URL:  https://tamil.indianexpress.com\n"
     ]
    },
    {
     "data": {
      "text/markdown": [
       "The Tamil website provides updates on various topics including entertainment, lifestyle, education, job opportunities, sports, business, and technology in Tamil Nadu, India. A recent news update highlights a fire incident at a car spare parts warehouse in Chennai. Additionally, there is a report of monkey troubles at the Tiruvallur government hospital, causing dissatisfaction among patients. In sports, India has recently defeated England by a margin of 336 runs in the second Test match. The site encourages readers to subscribe to their newsletter for more updates."
      ],
      "text/plain": [
       "<IPython.core.display.Markdown object>"
      ]
     },
     "metadata": {},
     "output_type": "display_data"
    }
   ],
   "source": [
    "# Example 2: https://tamil.indianexpress.com\n",
    "if __name__ == \"__main__\":\n",
    "    main()"
   ]
  }
 ],
 "metadata": {
  "kernelspec": {
   "display_name": "Python 3 (ipykernel)",
   "language": "python",
   "name": "python3"
  },
  "language_info": {
   "codemirror_mode": {
    "name": "ipython",
    "version": 3
   },
   "file_extension": ".py",
   "mimetype": "text/x-python",
   "name": "python",
   "nbconvert_exporter": "python",
   "pygments_lexer": "ipython3",
   "version": "3.11.10"
  }
 },
 "nbformat": 4,
 "nbformat_minor": 5
}
