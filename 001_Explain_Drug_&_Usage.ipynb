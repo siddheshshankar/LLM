{
 "cells": [
  {
   "cell_type": "code",
   "execution_count": 20,
   "id": "afd9e7e1-81ef-4743-8824-24dcc581b946",
   "metadata": {},
   "outputs": [],
   "source": [
    "# Import Required Libraries\n",
    "import requests\n",
    "from bs4 import BeautifulSoup\n",
    "from IPython.display import Markdown, display\n",
    "import ollama"
   ]
  },
  {
   "cell_type": "code",
   "execution_count": 21,
   "id": "58827fbd-c07a-4925-b62d-b5a279915b70",
   "metadata": {},
   "outputs": [],
   "source": [
    "# A class to represent a Webpage\n",
    "\n",
    "class Website:\n",
    "    \"\"\"\n",
    "    A utility class to represent a Website that we have scraped\n",
    "    \"\"\"\n",
    "    url: str\n",
    "    title: str\n",
    "    text: str\n",
    "\n",
    "    def __init__(self, url):\n",
    "        \"\"\"\n",
    "        Create this Website object from the given url using the BeautifulSoup library\n",
    "        \"\"\"\n",
    "        self.url = url\n",
    "        response = requests.get(url)\n",
    "        soup = BeautifulSoup(response.content, 'html.parser')\n",
    "        self.title = soup.title.string if soup.title else \"No title found\"\n",
    "        for irrelevant in soup.body([\"script\", \"style\", \"img\", \"input\"]):\n",
    "            irrelevant.decompose()\n",
    "        self.text = soup.body.get_text(separator=\"\\n\", strip=True)"
   ]
  },
  {
   "cell_type": "code",
   "execution_count": 22,
   "id": "3e9c7c78-5683-417f-bfb7-073f5db22c54",
   "metadata": {},
   "outputs": [],
   "source": [
    "system_prompt = \"You are an assistant that analyzes the contents of a website \\\n",
    "and provides a short summary, ignoring text that might be navigation related. \\\n",
    "Respond in markdown.\""
   ]
  },
  {
   "cell_type": "code",
   "execution_count": 23,
   "id": "d8a23b42-f318-4dcb-9b8a-196f38170d33",
   "metadata": {},
   "outputs": [],
   "source": [
    "# A function that writes a User Prompt that asks for summaries of websites:\n",
    "\n",
    "def user_prompt_for(website):\n",
    "    user_prompt = f\"You are looking at a website titled {website.title}\"\n",
    "    user_prompt += \"The contents of this website is as follows; \\\n",
    "                    please provide a short summary of the medicine in markdown. \\\n",
    "                    Keep the lanuage very simple in layman's term \\\\n\"\n",
    "    user_prompt += website.text\n",
    "    return user_prompt"
   ]
  },
  {
   "cell_type": "code",
   "execution_count": 24,
   "id": "5264641d-3748-42fd-af07-f7c47af5d6bf",
   "metadata": {},
   "outputs": [],
   "source": [
    "def messages_for(website):\n",
    "    return [\n",
    "        {\"role\": \"system\", \"content\": system_prompt},\n",
    "        {\"role\": \"user\", \"content\": user_prompt_for(website)}\n",
    "    ]"
   ]
  },
  {
   "cell_type": "code",
   "execution_count": 35,
   "id": "72069d45-794a-402e-a6bb-45395af4f9cb",
   "metadata": {},
   "outputs": [],
   "source": [
    "def summarize(medicine_name, model):\n",
    "    url = f\"https://www.drugs.com/{medicine_name}.html\"\n",
    "    website = Website(url)\n",
    "    messages = messages_for(website)\n",
    "    response = ollama.chat(model=MODEL, messages=messages)\n",
    "    return response['message']['content']"
   ]
  },
  {
   "cell_type": "code",
   "execution_count": 36,
   "id": "b354993e-6c8b-4cfb-9161-3b181c412b76",
   "metadata": {},
   "outputs": [],
   "source": [
    "def display_medicine_details(medicine_name, model):\n",
    "    summary = summarize(medicine_name, model)\n",
    "    display(Markdown(summary))"
   ]
  },
  {
   "cell_type": "code",
   "execution_count": 37,
   "id": "903d5d16-851e-472d-9569-43e374fe396b",
   "metadata": {},
   "outputs": [
    {
     "data": {
      "text/markdown": [
       "Cetirizine is an antihistamine medication used to treat allergies, itching, and hives. Here are some key facts about cetirizine:\n",
       "\n",
       "**Uses:**\n",
       "\n",
       "* Treats symptoms of allergies, including itching, sneezing, runny nose, and congestion\n",
       "* Relieves itching associated with skin conditions like eczema or psoriasis\n",
       "* Used to treat hives\n",
       "\n",
       "**Dosage:**\n",
       "\n",
       "* Oral tablets or liquid suspension available in various strengths (5-10 mg)\n",
       "* Children under 6 years old should not take cetirizine without adult supervision.\n",
       "* Adults and children over 12 years old can take the maximum dose of 20 mg per day.\n",
       "\n",
       "**Side effects:**\n",
       "\n",
       "* Common side effects include drowsiness, dry mouth, and stomach upset\n",
       "* Rare but serious side effects may include seizures, allergic reactions, or worsening of existing medical conditions\n",
       "\n",
       "**Interactions:**\n",
       "\n",
       "* Cetirizine can interact with other medications, including sedatives, tranquilizers, and certain antidepressants.\n",
       "* Avoid taking cetirizine with pseudoephedrine, as it can increase blood pressure.\n",
       "\n",
       "**Pregnancy and breastfeeding:**\n",
       "\n",
       "* Not recommended for pregnant women due to the potential risk of fetal side effects.\n",
       "* Use caution when breastfeeding, as cetirizine may pass into breast milk.\n",
       "\n",
       "**Contraindications:**\n",
       "\n",
       "* Cetirizine is not approved for use in patients with a history of agranulocytosis (a potentially life-threatening decrease in white blood cells) or Stevens-Johnson syndrome (a severe skin and mucous membrane disorder).\n",
       "\n",
       "**Important safety information:**\n",
       "\n",
       "* Avoid taking cetirizine if you have a history of kidney disease, as it may worsen kidney function.\n",
       "* Monitor liver function tests when taking cetirizine, especially in patients with pre-existing liver conditions.\n",
       "\n",
       "**Generic vs. brand name:**\n",
       "\n",
       "* Cetirizine is available under the brand name Zyrtec and several generic versions.\n",
       "\n",
       "It's essential to consult with your healthcare provider before taking cetirizine or any other medication, as they can provide personalized guidance on dosage, potential side effects, and interactions."
      ],
      "text/plain": [
       "<IPython.core.display.Markdown object>"
      ]
     },
     "metadata": {},
     "output_type": "display_data"
    }
   ],
   "source": [
    "display_medicine_details('cetirizine', 'llama3.2')"
   ]
  },
  {
   "cell_type": "code",
   "execution_count": 38,
   "id": "09b12be6-9c55-425e-b252-f4d72cda9f47",
   "metadata": {},
   "outputs": [
    {
     "data": {
      "text/markdown": [
       "Pantoprazole is a proton pump inhibitor (PPI) medication used to treat various conditions, including:\n",
       "\n",
       "1. Gastroesophageal reflux disease (GERD)\n",
       "2. Zollinger-Ellison syndrome\n",
       "3. Peptic ulcers\n",
       "4. Dyspepsia\n",
       "5. Reflux\n",
       "\n",
       "**Uses and Indications:**\n",
       "\n",
       "* Treatment of GERD symptoms, such as heartburn, acid reflux, and regurgitation.\n",
       "* Treatment of Zollinger-Ellison syndrome, a rare condition characterized by excessive stomach acid production.\n",
       "* Treatment of peptic ulcers, which are open sores in the lining of the stomach or duodenum (the first part of the small intestine).\n",
       "* Treatment of dyspepsia, also known as indigestion or upset stomach.\n",
       "\n",
       "**Dosage and Administration:**\n",
       "\n",
       "* The typical dosage range for pantoprazole is 20-40 mg per day.\n",
       "* The medication can be taken orally once daily with food.\n",
       "* For patients with Zollinger-Ellison syndrome, the recommended dose is 80-120 mg per day.\n",
       "* Pantoprazole is usually started at a lower dose and gradually increased as needed.\n",
       "\n",
       "**Side Effects:**\n",
       "\n",
       "Common side effects of pantoprazole include:\n",
       "\n",
       "* Bloating\n",
       "* Abdominal pain\n",
       "* Diarrhea\n",
       "* Flatulence\n",
       "* Constipation\n",
       "\n",
       "Less common but more serious side effects include:\n",
       "\n",
       "* Headache\n",
       "* Dizziness\n",
       "* Nausea and vomiting\n",
       "* Increased risk of fractures, particularly in elderly patients.\n",
       "\n",
       "**Contraindications:**\n",
       "\n",
       "Pantoprazole is not recommended for use in patients with:\n",
       "\n",
       "* Hypersensitivity to the medication or any component of the formulation.\n",
       "* Patients with a history of hypersensitivity reactions to other PPIs.\n",
       "* Patients with kidney disease or renal impairment.\n",
       "* Patients with liver disease.\n",
       "\n",
       "**Interactions:**\n",
       "\n",
       "Pantoprazole can interact with various medications, including:\n",
       "\n",
       "* Medications that can increase stomach acid production (e.g., antacids).\n",
       "* Antibiotics that may affect the stomach's ability to absorb the medication.\n",
       "* Blood thinners and anticoagulants.\n",
       "\n",
       "**Precautions:**\n",
       "\n",
       "* Pregnant or breastfeeding women should use pantoprazole with caution, as it may pass into breast milk or be absorbed into the fetus.\n",
       "* Elderly patients and those with kidney disease or renal impairment require closer monitoring of side effects and dosage adjustments.\n",
       "\n",
       "**Pregnancy and Lactation:**\n",
       "\n",
       "Pantoprazole is not recommended during pregnancy, particularly in the first trimester. However, if a pregnant woman needs to take pantoprazole for an extended period, her healthcare provider will need to weigh the benefits and risks. Breastfeeding women should use pantoprazole with caution, as it may pass into breast milk.\n",
       "\n",
       "**References:**\n",
       "\n",
       "* U.S. Food and Drug Administration (FDA). (2020). Pantoprazole sodium.\n",
       "* Drugs.com. (2022). Pantoprazole Sodium Delayed-Release 40 mg.\n",
       "\n",
       "Note: This information is for educational purposes only and should not be used as a substitute for professional medical advice or diagnosis. Always consult your healthcare provider before starting or stopping any medication."
      ],
      "text/plain": [
       "<IPython.core.display.Markdown object>"
      ]
     },
     "metadata": {},
     "output_type": "display_data"
    }
   ],
   "source": [
    "display_medicine_details('Pantoprazole', 'llama3.2')"
   ]
  }
 ],
 "metadata": {
  "kernelspec": {
   "display_name": "Python 3 (ipykernel)",
   "language": "python",
   "name": "python3"
  },
  "language_info": {
   "codemirror_mode": {
    "name": "ipython",
    "version": 3
   },
   "file_extension": ".py",
   "mimetype": "text/x-python",
   "name": "python",
   "nbconvert_exporter": "python",
   "pygments_lexer": "ipython3",
   "version": "3.11.10"
  }
 },
 "nbformat": 4,
 "nbformat_minor": 5
}
